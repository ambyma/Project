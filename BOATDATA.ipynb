{
 "cells": [
  {
   "cell_type": "code",
   "execution_count": 1,
   "id": "a66143bf",
   "metadata": {},
   "outputs": [],
   "source": [
    "import pandas as pd\n",
    "import numpy as np\n",
    "import matplotlib.pyplot as plt\n",
    "import seaborn as sns"
   ]
  },
  {
   "cell_type": "code",
   "execution_count": 2,
   "id": "446f58ad",
   "metadata": {},
   "outputs": [
    {
     "data": {
      "text/html": [
       "<div>\n",
       "<style scoped>\n",
       "    .dataframe tbody tr th:only-of-type {\n",
       "        vertical-align: middle;\n",
       "    }\n",
       "\n",
       "    .dataframe tbody tr th {\n",
       "        vertical-align: top;\n",
       "    }\n",
       "\n",
       "    .dataframe thead th {\n",
       "        text-align: right;\n",
       "    }\n",
       "</style>\n",
       "<table border=\"1\" class=\"dataframe\">\n",
       "  <thead>\n",
       "    <tr style=\"text-align: right;\">\n",
       "      <th></th>\n",
       "      <th>Price</th>\n",
       "      <th>Boat Type</th>\n",
       "      <th>Manufacturer</th>\n",
       "      <th>Type</th>\n",
       "      <th>Year Built</th>\n",
       "      <th>Length</th>\n",
       "      <th>Width</th>\n",
       "      <th>Material</th>\n",
       "      <th>Location</th>\n",
       "      <th>Number of views last 7 days</th>\n",
       "    </tr>\n",
       "  </thead>\n",
       "  <tbody>\n",
       "    <tr>\n",
       "      <th>0</th>\n",
       "      <td>CHF 3337</td>\n",
       "      <td>Motor Yacht</td>\n",
       "      <td>Rigiflex power boats</td>\n",
       "      <td>new boat from stock</td>\n",
       "      <td>2017</td>\n",
       "      <td>4.00</td>\n",
       "      <td>1.90</td>\n",
       "      <td>NaN</td>\n",
       "      <td>Switzerland Â» Lake Geneva Â» VÃ©senaz</td>\n",
       "      <td>226</td>\n",
       "    </tr>\n",
       "    <tr>\n",
       "      <th>1</th>\n",
       "      <td>EUR 3490</td>\n",
       "      <td>Center console boat</td>\n",
       "      <td>Terhi power boats</td>\n",
       "      <td>new boat from stock</td>\n",
       "      <td>2020</td>\n",
       "      <td>4.00</td>\n",
       "      <td>1.50</td>\n",
       "      <td>Thermoplastic</td>\n",
       "      <td>Germany Â» BÃ¶nningstedt</td>\n",
       "      <td>75</td>\n",
       "    </tr>\n",
       "    <tr>\n",
       "      <th>2</th>\n",
       "      <td>CHF 3770</td>\n",
       "      <td>Sport Boat</td>\n",
       "      <td>Marine power boats</td>\n",
       "      <td>new boat from stock</td>\n",
       "      <td>0</td>\n",
       "      <td>3.69</td>\n",
       "      <td>1.42</td>\n",
       "      <td>Aluminium</td>\n",
       "      <td>Switzerland Â» Lake of Zurich Â» StÃ¤fa ZH</td>\n",
       "      <td>124</td>\n",
       "    </tr>\n",
       "    <tr>\n",
       "      <th>3</th>\n",
       "      <td>DKK 25900</td>\n",
       "      <td>Sport Boat</td>\n",
       "      <td>Pioner power boats</td>\n",
       "      <td>new boat from stock</td>\n",
       "      <td>2020</td>\n",
       "      <td>3.00</td>\n",
       "      <td>1.00</td>\n",
       "      <td>NaN</td>\n",
       "      <td>Denmark Â» Svendborg</td>\n",
       "      <td>64</td>\n",
       "    </tr>\n",
       "    <tr>\n",
       "      <th>4</th>\n",
       "      <td>EUR 3399</td>\n",
       "      <td>Fishing Boat</td>\n",
       "      <td>Linder power boats</td>\n",
       "      <td>new boat from stock</td>\n",
       "      <td>2019</td>\n",
       "      <td>3.55</td>\n",
       "      <td>1.46</td>\n",
       "      <td>Aluminium</td>\n",
       "      <td>Germany Â» Bayern Â» MÃ¼nchen</td>\n",
       "      <td>58</td>\n",
       "    </tr>\n",
       "  </tbody>\n",
       "</table>\n",
       "</div>"
      ],
      "text/plain": [
       "       Price            Boat Type          Manufacturer                 Type  \\\n",
       "0   CHF 3337          Motor Yacht  Rigiflex power boats  new boat from stock   \n",
       "1   EUR 3490  Center console boat     Terhi power boats  new boat from stock   \n",
       "2   CHF 3770           Sport Boat    Marine power boats  new boat from stock   \n",
       "3  DKK 25900           Sport Boat    Pioner power boats  new boat from stock   \n",
       "4   EUR 3399         Fishing Boat    Linder power boats  new boat from stock   \n",
       "\n",
       "   Year Built  Length  Width       Material  \\\n",
       "0        2017    4.00   1.90            NaN   \n",
       "1        2020    4.00   1.50  Thermoplastic   \n",
       "2           0    3.69   1.42      Aluminium   \n",
       "3        2020    3.00   1.00            NaN   \n",
       "4        2019    3.55   1.46      Aluminium   \n",
       "\n",
       "                                     Location  Number of views last 7 days  \n",
       "0      Switzerland Â» Lake Geneva Â» VÃ©senaz                          226  \n",
       "1                    Germany Â» BÃ¶nningstedt                           75  \n",
       "2  Switzerland Â» Lake of Zurich Â» StÃ¤fa ZH                          124  \n",
       "3                        Denmark Â» Svendborg                           64  \n",
       "4               Germany Â» Bayern Â» MÃ¼nchen                           58  "
      ]
     },
     "execution_count": 2,
     "metadata": {},
     "output_type": "execute_result"
    }
   ],
   "source": [
    "df=pd.read_csv(\"boat_data.csv\")\n",
    "df.head()"
   ]
  },
  {
   "cell_type": "code",
   "execution_count": 3,
   "id": "2115d918",
   "metadata": {},
   "outputs": [
    {
     "data": {
      "text/plain": [
       "(9888, 10)"
      ]
     },
     "execution_count": 3,
     "metadata": {},
     "output_type": "execute_result"
    }
   ],
   "source": [
    "df.shape"
   ]
  },
  {
   "cell_type": "code",
   "execution_count": 4,
   "id": "983b63a5",
   "metadata": {},
   "outputs": [
    {
     "data": {
      "text/plain": [
       "Price                             0\n",
       "Boat Type                         0\n",
       "Manufacturer                   1338\n",
       "Type                              6\n",
       "Year Built                        0\n",
       "Length                            9\n",
       "Width                            56\n",
       "Material                       1749\n",
       "Location                         36\n",
       "Number of views last 7 days       0\n",
       "dtype: int64"
      ]
     },
     "execution_count": 4,
     "metadata": {},
     "output_type": "execute_result"
    }
   ],
   "source": [
    "df.isnull().sum()"
   ]
  },
  {
   "cell_type": "code",
   "execution_count": 5,
   "id": "928ec647",
   "metadata": {},
   "outputs": [
    {
     "data": {
      "text/plain": [
       "Price                           object\n",
       "Boat Type                       object\n",
       "Manufacturer                    object\n",
       "Type                            object\n",
       "Year Built                       int64\n",
       "Length                         float64\n",
       "Width                          float64\n",
       "Material                        object\n",
       "Location                        object\n",
       "Number of views last 7 days      int64\n",
       "dtype: object"
      ]
     },
     "execution_count": 5,
     "metadata": {},
     "output_type": "execute_result"
    }
   ],
   "source": [
    "df.dtypes"
   ]
  },
  {
   "cell_type": "code",
   "execution_count": 6,
   "id": "a917fb69",
   "metadata": {},
   "outputs": [
    {
     "name": "stdout",
     "output_type": "stream",
     "text": [
      "['Price', 'Boat Type', 'Manufacturer', 'Type', 'Material', 'Location']\n"
     ]
    }
   ],
   "source": [
    "col_list = [] #to add all the object columns into this list\n",
    "\n",
    "for col in df.columns:\n",
    "    if(df[col].dtype == \"object\"):\n",
    "        col_list.append(col)\n",
    "print(col_list)"
   ]
  },
  {
   "cell_type": "code",
   "execution_count": 7,
   "id": "a098a39c",
   "metadata": {},
   "outputs": [],
   "source": [
    "df['Length'].fillna(int(df[\"Length\"].median()),inplace=True)\n",
    "df['Width'].fillna(int(df['Width'].median()),inplace=True)"
   ]
  },
  {
   "cell_type": "code",
   "execution_count": 8,
   "id": "501f2e3e",
   "metadata": {},
   "outputs": [],
   "source": [
    "df=df[df['Year Built']!=0]"
   ]
  },
  {
   "cell_type": "code",
   "execution_count": 9,
   "id": "8e6a9f50",
   "metadata": {},
   "outputs": [],
   "source": [
    "df.drop(columns=['Location'],inplace=True)"
   ]
  },
  {
   "cell_type": "code",
   "execution_count": 10,
   "id": "16d1fb88",
   "metadata": {},
   "outputs": [],
   "source": [
    "from sklearn.impute import SimpleImputer"
   ]
  },
  {
   "cell_type": "code",
   "execution_count": 11,
   "id": "f77061b9",
   "metadata": {},
   "outputs": [],
   "source": [
    "freq_imp=SimpleImputer(strategy='most_frequent')\n",
    "for col in ['Manufacturer','Type','Material']:\n",
    "    df[[col]]=freq_imp.fit_transform(df[[col]])\n"
   ]
  },
  {
   "cell_type": "code",
   "execution_count": 12,
   "id": "fee051ac",
   "metadata": {},
   "outputs": [],
   "source": [
    "from sklearn.preprocessing import LabelEncoder"
   ]
  },
  {
   "cell_type": "code",
   "execution_count": 13,
   "id": "660da7d4",
   "metadata": {},
   "outputs": [],
   "source": [
    "label_encoder=LabelEncoder()"
   ]
  },
  {
   "cell_type": "code",
   "execution_count": 14,
   "id": "a70c65ed",
   "metadata": {},
   "outputs": [],
   "source": [
    "for col in ['Boat Type', 'Manufacturer', 'Type', 'Material']:\n",
    "    df[col] = label_encoder.fit_transform(df[col])\n"
   ]
  },
  {
   "cell_type": "code",
   "execution_count": 15,
   "id": "b468720f",
   "metadata": {},
   "outputs": [
    {
     "data": {
      "text/plain": [
       "Price                           object\n",
       "Boat Type                        int32\n",
       "Manufacturer                     int32\n",
       "Type                             int32\n",
       "Year Built                       int64\n",
       "Length                         float64\n",
       "Width                          float64\n",
       "Material                         int32\n",
       "Number of views last 7 days      int64\n",
       "dtype: object"
      ]
     },
     "execution_count": 15,
     "metadata": {},
     "output_type": "execute_result"
    }
   ],
   "source": [
    "df.dtypes"
   ]
  },
  {
   "cell_type": "code",
   "execution_count": 16,
   "id": "b5de7542",
   "metadata": {},
   "outputs": [
    {
     "name": "stdout",
     "output_type": "stream",
     "text": [
      "<class 'pandas.core.frame.DataFrame'>\n",
      "Int64Index: 9337 entries, 0 to 9887\n",
      "Data columns (total 9 columns):\n",
      " #   Column                       Non-Null Count  Dtype  \n",
      "---  ------                       --------------  -----  \n",
      " 0   Price                        9337 non-null   object \n",
      " 1   Boat Type                    9337 non-null   int32  \n",
      " 2   Manufacturer                 9337 non-null   int32  \n",
      " 3   Type                         9337 non-null   int32  \n",
      " 4   Year Built                   9337 non-null   int64  \n",
      " 5   Length                       9337 non-null   float64\n",
      " 6   Width                        9337 non-null   float64\n",
      " 7   Material                     9337 non-null   int32  \n",
      " 8   Number of views last 7 days  9337 non-null   int64  \n",
      "dtypes: float64(2), int32(4), int64(2), object(1)\n",
      "memory usage: 583.6+ KB\n"
     ]
    }
   ],
   "source": [
    "df.info()"
   ]
  },
  {
   "cell_type": "code",
   "execution_count": 17,
   "id": "4f47b4bd",
   "metadata": {},
   "outputs": [
    {
     "data": {
      "text/html": [
       "<div>\n",
       "<style scoped>\n",
       "    .dataframe tbody tr th:only-of-type {\n",
       "        vertical-align: middle;\n",
       "    }\n",
       "\n",
       "    .dataframe tbody tr th {\n",
       "        vertical-align: top;\n",
       "    }\n",
       "\n",
       "    .dataframe thead th {\n",
       "        text-align: right;\n",
       "    }\n",
       "</style>\n",
       "<table border=\"1\" class=\"dataframe\">\n",
       "  <thead>\n",
       "    <tr style=\"text-align: right;\">\n",
       "      <th></th>\n",
       "      <th>Boat Type</th>\n",
       "      <th>Manufacturer</th>\n",
       "      <th>Type</th>\n",
       "      <th>Year Built</th>\n",
       "      <th>Length</th>\n",
       "      <th>Width</th>\n",
       "      <th>Material</th>\n",
       "      <th>Number of views last 7 days</th>\n",
       "    </tr>\n",
       "  </thead>\n",
       "  <tbody>\n",
       "    <tr>\n",
       "      <th>count</th>\n",
       "      <td>9337.000000</td>\n",
       "      <td>9337.000000</td>\n",
       "      <td>9337.000000</td>\n",
       "      <td>9337.000000</td>\n",
       "      <td>9337.000000</td>\n",
       "      <td>9337.000000</td>\n",
       "      <td>9337.000000</td>\n",
       "      <td>9337.000000</td>\n",
       "    </tr>\n",
       "    <tr>\n",
       "      <th>mean</th>\n",
       "      <td>85.868159</td>\n",
       "      <td>380.652244</td>\n",
       "      <td>11.516761</td>\n",
       "      <td>2004.914962</td>\n",
       "      <td>11.749489</td>\n",
       "      <td>3.555671</td>\n",
       "      <td>3.013280</td>\n",
       "      <td>150.219557</td>\n",
       "    </tr>\n",
       "    <tr>\n",
       "      <th>std</th>\n",
       "      <td>31.396794</td>\n",
       "      <td>246.130071</td>\n",
       "      <td>4.280564</td>\n",
       "      <td>16.356241</td>\n",
       "      <td>6.026753</td>\n",
       "      <td>1.215988</td>\n",
       "      <td>2.181963</td>\n",
       "      <td>154.654566</td>\n",
       "    </tr>\n",
       "    <tr>\n",
       "      <th>min</th>\n",
       "      <td>0.000000</td>\n",
       "      <td>0.000000</td>\n",
       "      <td>0.000000</td>\n",
       "      <td>1885.000000</td>\n",
       "      <td>1.040000</td>\n",
       "      <td>0.010000</td>\n",
       "      <td>0.000000</td>\n",
       "      <td>13.000000</td>\n",
       "    </tr>\n",
       "    <tr>\n",
       "      <th>25%</th>\n",
       "      <td>79.000000</td>\n",
       "      <td>154.000000</td>\n",
       "      <td>9.000000</td>\n",
       "      <td>1999.000000</td>\n",
       "      <td>7.570000</td>\n",
       "      <td>2.550000</td>\n",
       "      <td>2.000000</td>\n",
       "      <td>70.000000</td>\n",
       "    </tr>\n",
       "    <tr>\n",
       "      <th>50%</th>\n",
       "      <td>95.000000</td>\n",
       "      <td>312.000000</td>\n",
       "      <td>9.000000</td>\n",
       "      <td>2008.000000</td>\n",
       "      <td>10.500000</td>\n",
       "      <td>3.370000</td>\n",
       "      <td>2.000000</td>\n",
       "      <td>108.000000</td>\n",
       "    </tr>\n",
       "    <tr>\n",
       "      <th>75%</th>\n",
       "      <td>108.000000</td>\n",
       "      <td>621.000000</td>\n",
       "      <td>14.000000</td>\n",
       "      <td>2018.000000</td>\n",
       "      <td>14.000000</td>\n",
       "      <td>4.260000</td>\n",
       "      <td>4.000000</td>\n",
       "      <td>172.000000</td>\n",
       "    </tr>\n",
       "    <tr>\n",
       "      <th>max</th>\n",
       "      <td>124.000000</td>\n",
       "      <td>888.000000</td>\n",
       "      <td>23.000000</td>\n",
       "      <td>2021.000000</td>\n",
       "      <td>100.000000</td>\n",
       "      <td>25.160000</td>\n",
       "      <td>10.000000</td>\n",
       "      <td>3263.000000</td>\n",
       "    </tr>\n",
       "  </tbody>\n",
       "</table>\n",
       "</div>"
      ],
      "text/plain": [
       "         Boat Type  Manufacturer         Type   Year Built       Length  \\\n",
       "count  9337.000000   9337.000000  9337.000000  9337.000000  9337.000000   \n",
       "mean     85.868159    380.652244    11.516761  2004.914962    11.749489   \n",
       "std      31.396794    246.130071     4.280564    16.356241     6.026753   \n",
       "min       0.000000      0.000000     0.000000  1885.000000     1.040000   \n",
       "25%      79.000000    154.000000     9.000000  1999.000000     7.570000   \n",
       "50%      95.000000    312.000000     9.000000  2008.000000    10.500000   \n",
       "75%     108.000000    621.000000    14.000000  2018.000000    14.000000   \n",
       "max     124.000000    888.000000    23.000000  2021.000000   100.000000   \n",
       "\n",
       "             Width     Material  Number of views last 7 days  \n",
       "count  9337.000000  9337.000000                  9337.000000  \n",
       "mean      3.555671     3.013280                   150.219557  \n",
       "std       1.215988     2.181963                   154.654566  \n",
       "min       0.010000     0.000000                    13.000000  \n",
       "25%       2.550000     2.000000                    70.000000  \n",
       "50%       3.370000     2.000000                   108.000000  \n",
       "75%       4.260000     4.000000                   172.000000  \n",
       "max      25.160000    10.000000                  3263.000000  "
      ]
     },
     "execution_count": 17,
     "metadata": {},
     "output_type": "execute_result"
    }
   ],
   "source": [
    "df.describe()"
   ]
  },
  {
   "cell_type": "code",
   "execution_count": 18,
   "id": "4db87fd7",
   "metadata": {},
   "outputs": [
    {
     "data": {
      "text/plain": [
       "Index(['Price', 'Boat Type', 'Manufacturer', 'Type', 'Year Built', 'Length',\n",
       "       'Width', 'Material', 'Number of views last 7 days'],\n",
       "      dtype='object')"
      ]
     },
     "execution_count": 18,
     "metadata": {},
     "output_type": "execute_result"
    }
   ],
   "source": [
    "df.columns"
   ]
  },
  {
   "cell_type": "code",
   "execution_count": 19,
   "id": "a15368ee",
   "metadata": {},
   "outputs": [],
   "source": [
    "from sklearn.model_selection import train_test_split"
   ]
  },
  {
   "cell_type": "code",
   "execution_count": 20,
   "id": "6415ae5c",
   "metadata": {},
   "outputs": [],
   "source": [
    "X=df.drop(columns=['Price'])\n",
    "y=df['Price']"
   ]
  },
  {
   "cell_type": "code",
   "execution_count": 21,
   "id": "1e981505",
   "metadata": {},
   "outputs": [],
   "source": [
    "X_train, X_test, y_train, y_test = train_test_split(X, y, test_size = 0.2, random_state = 44)"
   ]
  },
  {
   "cell_type": "code",
   "execution_count": 22,
   "id": "992b6616",
   "metadata": {},
   "outputs": [],
   "source": [
    "from sklearn.ensemble import RandomForestClassifier"
   ]
  },
  {
   "cell_type": "code",
   "execution_count": null,
   "id": "1d7230f7",
   "metadata": {},
   "outputs": [],
   "source": [
    "classifier1 = RandomForestClassifier() #No.of decision trees = 400\n",
    "classifier1.fit(X_train, y_train) #traning the model"
   ]
  },
  {
   "cell_type": "code",
   "execution_count": null,
   "id": "3b15ef53",
   "metadata": {},
   "outputs": [],
   "source": [
    "y_pred = classifier1.predict(X_test) #predictions for testing data\n",
    "y_pred"
   ]
  },
  {
   "cell_type": "code",
   "execution_count": null,
   "id": "33c8954c",
   "metadata": {},
   "outputs": [],
   "source": []
  }
 ],
 "metadata": {
  "kernelspec": {
   "display_name": "Python 3 (ipykernel)",
   "language": "python",
   "name": "python3"
  },
  "language_info": {
   "codemirror_mode": {
    "name": "ipython",
    "version": 3
   },
   "file_extension": ".py",
   "mimetype": "text/x-python",
   "name": "python",
   "nbconvert_exporter": "python",
   "pygments_lexer": "ipython3",
   "version": "3.9.13"
  }
 },
 "nbformat": 4,
 "nbformat_minor": 5
}
